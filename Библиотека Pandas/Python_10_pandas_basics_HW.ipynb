{
 "cells": [
  {
   "cell_type": "markdown",
   "metadata": {},
   "source": [
    "# Домашнее задание к лекции \"Библиотека Pandas\"\n",
    "\n"
   ]
  },
  {
   "cell_type": "markdown",
   "metadata": {},
   "source": [
    "## Задание 1 "
   ]
  },
  {
   "cell_type": "markdown",
   "metadata": {},
   "source": [
    "Скачайте с сайта https://grouplens.org/datasets/movielens/ датасет любого размера. Определите какому фильму было выставлено больше всего оценок 5.0."
   ]
  },
  {
   "cell_type": "code",
   "execution_count": 2,
   "metadata": {},
   "outputs": [],
   "source": [
    "import pandas as pd"
   ]
  },
  {
   "cell_type": "code",
   "execution_count": 5,
   "metadata": {},
   "outputs": [
    {
     "data": {
      "text/html": [
       "<div>\n",
       "<style scoped>\n",
       "    .dataframe tbody tr th:only-of-type {\n",
       "        vertical-align: middle;\n",
       "    }\n",
       "\n",
       "    .dataframe tbody tr th {\n",
       "        vertical-align: top;\n",
       "    }\n",
       "\n",
       "    .dataframe thead th {\n",
       "        text-align: right;\n",
       "    }\n",
       "</style>\n",
       "<table border=\"1\" class=\"dataframe\">\n",
       "  <thead>\n",
       "    <tr style=\"text-align: right;\">\n",
       "      <th></th>\n",
       "      <th>UserID</th>\n",
       "      <th>MovieID</th>\n",
       "      <th>Rating</th>\n",
       "      <th>Timestamp</th>\n",
       "      <th>Title</th>\n",
       "      <th>Genre</th>\n",
       "    </tr>\n",
       "  </thead>\n",
       "  <tbody>\n",
       "    <tr>\n",
       "      <th>0</th>\n",
       "      <td>1</td>\n",
       "      <td>661</td>\n",
       "      <td>3</td>\n",
       "      <td>978302109</td>\n",
       "      <td>James and the Giant Peach (1996)</td>\n",
       "      <td>Animation|Children's|Musical</td>\n",
       "    </tr>\n",
       "    <tr>\n",
       "      <th>1</th>\n",
       "      <td>1</td>\n",
       "      <td>914</td>\n",
       "      <td>3</td>\n",
       "      <td>978301968</td>\n",
       "      <td>My Fair Lady (1964)</td>\n",
       "      <td>Musical|Romance</td>\n",
       "    </tr>\n",
       "    <tr>\n",
       "      <th>2</th>\n",
       "      <td>1</td>\n",
       "      <td>3408</td>\n",
       "      <td>4</td>\n",
       "      <td>978300275</td>\n",
       "      <td>Erin Brockovich (2000)</td>\n",
       "      <td>Drama</td>\n",
       "    </tr>\n",
       "    <tr>\n",
       "      <th>3</th>\n",
       "      <td>1</td>\n",
       "      <td>2355</td>\n",
       "      <td>5</td>\n",
       "      <td>978824291</td>\n",
       "      <td>Bug's Life, A (1998)</td>\n",
       "      <td>Animation|Children's|Comedy</td>\n",
       "    </tr>\n",
       "    <tr>\n",
       "      <th>4</th>\n",
       "      <td>1</td>\n",
       "      <td>1197</td>\n",
       "      <td>3</td>\n",
       "      <td>978302268</td>\n",
       "      <td>Princess Bride, The (1987)</td>\n",
       "      <td>Action|Adventure|Comedy|Romance</td>\n",
       "    </tr>\n",
       "  </tbody>\n",
       "</table>\n",
       "</div>"
      ],
      "text/plain": [
       "   UserID  MovieID  Rating  Timestamp                             Title  \\\n",
       "0       1      661       3  978302109  James and the Giant Peach (1996)   \n",
       "1       1      914       3  978301968               My Fair Lady (1964)   \n",
       "2       1     3408       4  978300275            Erin Brockovich (2000)   \n",
       "3       1     2355       5  978824291              Bug's Life, A (1998)   \n",
       "4       1     1197       3  978302268        Princess Bride, The (1987)   \n",
       "\n",
       "                             Genre  \n",
       "0     Animation|Children's|Musical  \n",
       "1                  Musical|Romance  \n",
       "2                            Drama  \n",
       "3      Animation|Children's|Comedy  \n",
       "4  Action|Adventure|Comedy|Romance  "
      ]
     },
     "execution_count": 5,
     "metadata": {},
     "output_type": "execute_result"
    }
   ],
   "source": [
    "#engine='python' pandas.errors.ParserWarning/ Warning raised when reading a file that doesn’t use the default ‘c’ parser.\n",
    "#header=0 denotes the first line of data rather than the first line of the file\n",
    "rating_data = pd.read_csv('ratings.dat', engine='python', header=0, names=['UserID', 'MovieID', 'Rating', 'Timestamp'], sep = '::')\n",
    "movie_name_data = pd.read_csv('movies.dat', engine='python', header=0, names=['MovieID', 'Title', 'Genre'], sep = '::')\n",
    "\n",
    "movie_data = rating_data.merge(movie_name_data, on='MovieID', how='left')\n",
    "\n",
    "movie_data.head()\n",
    "\n"
   ]
  },
  {
   "cell_type": "code",
   "execution_count": 9,
   "metadata": {},
   "outputs": [
    {
     "name": "stdout",
     "output_type": "stream",
     "text": [
      "Больше всего оценок 5.0 получил фильм American Beauty (1999)    1963\n",
      "Name: Title, dtype: int64\n"
     ]
    }
   ],
   "source": [
    "a = movie_data[movie_data.Rating==5].Title.value_counts().head(1)\n",
    "print(f'Больше всего оценок 5.0 получил фильм {a}')"
   ]
  },
  {
   "cell_type": "markdown",
   "metadata": {},
   "source": [
    "## Задание 2"
   ]
  },
  {
   "cell_type": "markdown",
   "metadata": {},
   "source": [
    "По данным файла power.csv посчитайте суммарное потребление стран Прибалтики (Латвия, Литва и Эстония) категорий 4, 12 и 21 за период с 2005 по 2010 года. Не учитывайте в расчетах отрицательные значения quantity."
   ]
  },
  {
   "cell_type": "code",
   "execution_count": 17,
   "metadata": {},
   "outputs": [
    {
     "data": {
      "text/plain": [
       "970728.0"
      ]
     },
     "execution_count": 17,
     "metadata": {},
     "output_type": "execute_result"
    }
   ],
   "source": [
    "df = pd.read_csv('power.csv')\n",
    "#data.head()\n",
    "Baltic_country = ['Latvia', 'Lithuania', 'Estonia']\n",
    "category = [4, 12, 21]\n",
    "#df.describe()\n",
    "df[df.country.isin(Baltic_country) \\\n",
    "   & df.category.isin(category) \\\n",
    "   & (df.quantity > 0) ].quantity.sum()"
   ]
  },
  {
   "cell_type": "code",
   "execution_count": null,
   "metadata": {},
   "outputs": [],
   "source": []
  },
  {
   "cell_type": "markdown",
   "metadata": {},
   "source": [
    "## Задание 3"
   ]
  },
  {
   "cell_type": "markdown",
   "metadata": {},
   "source": [
    "\n",
    "Выберите страницу любого сайта с табличными данными. Импортируйте таблицы в pandas dataframe."
   ]
  },
  {
   "cell_type": "code",
   "execution_count": 18,
   "metadata": {},
   "outputs": [],
   "source": [
    "df = pd.read_html('https://fortrader.org/quotes')\n",
    "#df"
   ]
  },
  {
   "cell_type": "code",
   "execution_count": 19,
   "metadata": {},
   "outputs": [
    {
     "data": {
      "text/plain": [
       "[                           Название     Цена  Изменение  Изменение(%)  \\\n",
       " 0  EURRUB Курс евро к рублю сегодня  80.0977     0.5047        0.6341   \n",
       " 1       USDRUB Курс рубля к доллару  73.4195    -0.1717       -0.2333   \n",
       " \n",
       "    Обновлено  \n",
       " 0        NaN  \n",
       " 1        NaN  ,\n",
       "                            Название    Цена   Изменение Изменение(%)  \\\n",
       " 0  Нефть (BRENT) Курс нефти сегодня  33.760       +0.28        +0.84   \n",
       " 1   Нефть (WTI) Цены на нефть (WTI)  31.000       +0.59        +1.94   \n",
       " 2          Сахар котировки на сахар  12.630  нет данных   нет данных   \n",
       " 3                   Газ Цена на газ   1.717      +0.003       +0.175   \n",
       " \n",
       "    Обновлено  \n",
       " 0        NaN  \n",
       " 1        NaN  \n",
       " 2        NaN  \n",
       " 3        NaN  ]"
      ]
     },
     "execution_count": 19,
     "metadata": {},
     "output_type": "execute_result"
    }
   ],
   "source": [
    "df[:2]"
   ]
  },
  {
   "cell_type": "code",
   "execution_count": null,
   "metadata": {},
   "outputs": [],
   "source": []
  }
 ],
 "metadata": {
  "kernelspec": {
   "display_name": "Python 3",
   "language": "python",
   "name": "python3"
  },
  "language_info": {
   "codemirror_mode": {
    "name": "ipython",
    "version": 3
   },
   "file_extension": ".py",
   "mimetype": "text/x-python",
   "name": "python",
   "nbconvert_exporter": "python",
   "pygments_lexer": "ipython3",
   "version": "3.7.6"
  }
 },
 "nbformat": 4,
 "nbformat_minor": 2
}
