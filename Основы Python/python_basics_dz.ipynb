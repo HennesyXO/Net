{
 "cells": [
  {
   "cell_type": "markdown",
   "metadata": {},
   "source": [
    "**Задание 1**. Даны 2 строки: *long_phrase* и *short_phrase*. \n",
    "Напишите код, который проверяет действительно ли длинная фраза *long_phrase* длиннее короткой *short_phrase*. И выводит *True* или *False* в зависимости от результата сравнения."
   ]
  },
  {
   "cell_type": "code",
   "execution_count": 17,
   "metadata": {},
   "outputs": [],
   "source": [
    "long_phrase = 'Насколько проще было бы писать программы, если бы не заказчики'\n",
    "short_phrase = '640Кб должно хватить для любых задач. Билл Гейтс (по легенде)'"
   ]
  },
  {
   "cell_type": "code",
   "execution_count": 18,
   "metadata": {},
   "outputs": [
    {
     "data": {
      "text/plain": [
       "True"
      ]
     },
     "execution_count": 18,
     "metadata": {},
     "output_type": "execute_result"
    }
   ],
   "source": [
    "len (long_phrase) > len (short_phrase)"
   ]
  },
  {
   "cell_type": "markdown",
   "metadata": {},
   "source": [
    "**Задание 2**. Дано значение объема файла в байтах (*в мегабайте 2^20 байт*). Напишите перевод этого значения в мегабайты в формате: \"*Объем файла равен 213.68Mb*\"."
   ]
  },
  {
   "cell_type": "code",
   "execution_count": 19,
   "metadata": {},
   "outputs": [
    {
     "name": "stdout",
     "output_type": "stream",
     "text": [
      "Объем файла равен 190.93Mb\n"
     ]
    }
   ],
   "source": [
    "file_size = 200200000\n",
    "mega_byte = 2**20\n",
    "file_count = round(file_size / mega_byte, 2)\n",
    "\n",
    "print (\"Объем файла равен \" + str(file_count) + \" Mb\")\n"
   ]
  },
  {
   "cell_type": "markdown",
   "metadata": {},
   "source": [
    "**Задание 3**. Разработать приложение для определения знака зодиака по дате рождения. Пример:\n",
    "\n",
    "Введите месяц: март\n",
    "\n",
    "Введите число: 6\n",
    "\n",
    "Вывод:\n",
    "Рыбы"
   ]
  },
  {
   "cell_type": "code",
   "execution_count": 22,
   "metadata": {},
   "outputs": [
    {
     "name": "stdout",
     "output_type": "stream",
     "text": [
      "Введите месяц 7\n",
      "Введите число 18\n",
      "Рак\n"
     ]
    }
   ],
   "source": [
    "bthd_month = int(input(\"Введите месяц \"))\n",
    "bthd_day = int(input(\"Введите число \")) \n",
    "if ((bthd_month == 12) and (bthd_day >= 22)) or ((bthd_month == 1) and (bthd_day <= 19)):\n",
    "    print('Козерог')\n",
    "    #Козерог 22 декабря – 20 января\n",
    "elif ((bthd_month == 1 and bthd_day >= 20)) or ((bthd_month == 2 and bthd_day <= 18)):\n",
    "    print('Водолей')\n",
    "    #Водолей 21 января – 18 февраля\n",
    "    \n",
    "elif ((bthd_month == 2 and bthd_day >= 19)) or ((bthd_month == 3 and bthd_day <= 20)):\n",
    "    print('Рыбы')\n",
    "    #Рыбы 19 февраля – 20 марта\n",
    "    \n",
    "elif ((bthd_month == 3 and bthd_day >= 21)) or ((bthd_month == 4 and bthd_day <= 19)):\n",
    "    print('Овен')\n",
    "    #Овен 21 марта – 20 апреля\n",
    "    \n",
    "elif ((bthd_month == 4 and bthd_day >= 20))  or ((bthd_month == 5 and bthd_day <= 20)):\n",
    "    print('Телец')\n",
    "    #Телец 21 апреля – 20 мая\n",
    "    \n",
    "elif ((bthd_month == 5 and bthd_day >= 21)) or ((bthd_month == 6 and bthd_day<= 21)):\n",
    "    print('Близнецы')\n",
    "    #Близнецы 21 мая – 21 июня \n",
    "    \n",
    "elif ((bthd_month == 6 and bthd_day >= 22)) or ((bthd_month == 7 and bthd_day <= 22)):\n",
    "    print('Рак')\n",
    "    #Рак 22 июня – 22 июля\n",
    "    \n",
    "elif ((bthd_month == 7 and bthd_day >= 23)) or ((bthd_month == 8 and bthd_day <= 22)):\n",
    "    print('Лев')\n",
    "    #Лев 23 июля – 23 августа    \n",
    "    \n",
    "elif ((bthd_month == 8  and bthd_day >= 23)) or ((bthd_month == 9 and bthd_day <= 22)):\n",
    "    print('Дева')\n",
    "    #Дева 24 августа – 23 сентября\n",
    "    \n",
    "elif ((bthd_month == 9  and bthd_day>=23)) or ((bthd_month == 10 and bthd_day <= 22)):\n",
    "    print('Весы')\n",
    "    #Весы 24 сентября – 23 октября\n",
    "    \n",
    "elif ((bthd_month == 10  and bthd_day>=23)) or ((bthd_month==11 and bthd_day<= 21)):\n",
    "    print('Скорпион')\n",
    "    #Скорпион 24 октября – 22 ноября\n",
    "    \n",
    "elif ((bthd_month == 11  and bthd_day>=22)) or ((bthd_month==12 and bthd_day<= 21)):\n",
    "    print('Стрелец')\n",
    "    #Стрелец 23 ноября – 21 декабря  \n",
    "else:\n",
    "    print(\"Неверная дата!\")  \n",
    "      \n",
    "    "
   ]
  },
  {
   "cell_type": "markdown",
   "metadata": {},
   "source": [
    "**Задание 4**. Нужно разработать приложение для финансового планирования.\n",
    "Приложение учитывает сколько уходит на ипотеку, \"на жизнь\" и сколько нужно отложить на пенсию.\n",
    "Пользователь вводит:\n",
    "- заработанную плату в месяц.\n",
    "- сколько процентов от ЗП уходит на ипотеку.\n",
    "- сколько процентов от ЗП уходит \"на жизнь\".\n",
    "- сколько раз приходит премия в год.\n",
    "\n",
    "Остальная часть заработанной платы откладывается на пенсию.\n",
    "\n",
    "Также пользователю приходит премия в размере зарплаты, от которой половина уходит на отпуск, а вторая половина откладывается.\n",
    "\n",
    "Программа должна учитывать сколько премий было в год.\n",
    "\n",
    "Нужно вывести сколько денег тратит пользователь на ипотеку и сколько он накопит за год.\n",
    "\n",
    "Пример:\n",
    "\n",
    "Введите заработанную плату в месяц: 100000\n",
    "\n",
    "Введите сколько процентов уходит на ипотеку: 30\n",
    "\n",
    "Введите сколько процентов уходит на жизнь: 50\n",
    "\n",
    "Введите количество премий за год: 2\n",
    "\n",
    "Вывод:\n",
    "На ипотеку было потрачено: 360000 рублей\n",
    "Было накоплено: 340000 рублей"
   ]
  },
  {
   "cell_type": "code",
   "execution_count": 15,
   "metadata": {},
   "outputs": [
    {
     "name": "stdout",
     "output_type": "stream",
     "text": [
      "Введите заработанную плату в месяц 1000\n",
      "Введите сколько процентов уходит на ипотеку20\n",
      "Введите сколько процентов уходит на жизнь20\n",
      "Введите количество премий за год2\n",
      "На ипотеку было потрачено: 2400.0 рублей\n",
      "Было накоплено: 9200.0рублей\n"
     ]
    }
   ],
   "source": [
    "salary = int(input(\"Введите заработанную плату в месяц \"))\n",
    "morgage = int(input(\"Введите сколько процентов уходит на ипотеку\"))\n",
    "spents = int(input(\"Введите сколько процентов уходит на жизнь\"))\n",
    "premiums = int(input(\"Введите количество премий за год\"))\n",
    "morgage_per_year = 12 * (salary * (morgage/100))\n",
    "savings_per_year = ((12 * salary) + (premiums * salary)) - morgage_per_year - (12 * (salary * (spents/100)))\n",
    "#зарплата за год - траты за год + премии - ипотека- траты \n",
    "print (\"На ипотеку было потрачено: \" + str(morgage_per_year) + ' рублей')\n",
    "print (\"Было накоплено: \"+ str(savings_per_year) + \" рублей\")\n",
    "\n",
    "               "
   ]
  },
  {
   "cell_type": "code",
   "execution_count": null,
   "metadata": {},
   "outputs": [],
   "source": []
  }
 ],
 "metadata": {
  "kernelspec": {
   "display_name": "Python 3",
   "language": "python",
   "name": "python3"
  },
  "language_info": {
   "codemirror_mode": {
    "name": "ipython",
    "version": 3
   },
   "file_extension": ".py",
   "mimetype": "text/x-python",
   "name": "python",
   "nbconvert_exporter": "python",
   "pygments_lexer": "ipython3",
   "version": "3.7.6"
  }
 },
 "nbformat": 4,
 "nbformat_minor": 2
}
