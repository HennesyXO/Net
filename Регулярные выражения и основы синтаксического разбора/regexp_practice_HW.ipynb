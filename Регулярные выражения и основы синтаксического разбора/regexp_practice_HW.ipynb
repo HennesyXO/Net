{
 "cells": [
  {
   "cell_type": "markdown",
   "metadata": {},
   "source": [
    "# Домашнее задание\n",
    "\n",
    "\n",
    "\n"
   ]
  },
  {
   "cell_type": "markdown",
   "metadata": {},
   "source": [
    "Задание 1.\n",
    "Напишите функцию, которая принимает на вход строку и проверяет является ли она валидным транспортным номером. Если да, то функция должна возвращать отдельно номер и регион.\n",
    "\n"
   ]
  },
  {
   "cell_type": "code",
   "execution_count": 60,
   "metadata": {},
   "outputs": [
    {
     "name": "stdout",
     "output_type": "stream",
     "text": [
      "Номер автомобиля K123ТВ, регион: 17\n"
     ]
    }
   ],
   "source": [
    "import re\n",
    "def check_num(num):\n",
    "    #re.sub(pattern, repl, string): принудительно убрать пробелы если они случайны\n",
    "    num = re.sub(\" \", \"\", num)\n",
    "    regex = '^[A-ZА-Яа-я]{1}\\d{3}[A-ZА-Яа-я]{2}\\d{2,3}$'\n",
    "    result = re.match(regex, num)\n",
    "    \n",
    "    if result:\n",
    "        car_num = re.findall('^\\w{6}', num)\n",
    "        region = re.findall('\\d{2,3}$', num)\n",
    "       \n",
    "        text = f'Номер автомобиля {car_num[0]}, регион: {region[0]}' \n",
    "    else:\n",
    "        text = f'Введён не корректный регистрационный номер'\n",
    "    return print(text)\n",
    "\n",
    "#check_num(input('Введите номерной знак автомобиля: '))\n",
    "check_num('K123ТВ17')"
   ]
  },
  {
   "cell_type": "code",
   "execution_count": null,
   "metadata": {},
   "outputs": [],
   "source": []
  },
  {
   "cell_type": "markdown",
   "metadata": {},
   "source": [
    "Задание 2.\n",
    "Постарайтесь написать (в крайнем случае найти) самый полный шаблон для проверки e-mail адресов через регулярное выражение, которая проверяет e-mail адрес на валидность. Можно руководствоваться следующими минимальными требованиями:\n",
    "• адрес должен содержать специальный символ “@”, который отделяет имя пользователя почтовой системы от доменного имени;\n",
    "• адрес не должен содержать следующие символы: “пробел”, “,”, “:”, “;”, “!”, “#”, “%”, “*”, “(”, “)”, “=”, “+”, “{”, “}”, \" \" \", \" ’ \", \" / \", \" \\ \" и “|”;\n",
    "• адрес должен состоять только из латинских символов;\n",
    "• после символа “@” должна быть как минимум одна “.”;\n",
    "• после последней точки должно быть не менее 2-х и не более 4-х символов, причем наличие цифр не допускается;\n",
    "• между последней точкой и символом “@” должно быть не менее 2-х символов\n",
    "• слева от “@” должно быть не менее четырех символов"
   ]
  },
  {
   "cell_type": "code",
   "execution_count": 63,
   "metadata": {},
   "outputs": [
    {
     "name": "stdout",
     "output_type": "stream",
     "text": [
      "i@iu@mail.ru is invalid email. Please try again\n"
     ]
    }
   ],
   "source": [
    "import re\n",
    "def check_email(email):\n",
    "    e_regex = '^.+@+\\.[A-Za-z]+$'\n",
    "    \n",
    "    result = re.match(e_regex, email)\n",
    "    if result:\n",
    "        print(f'{email} is valid email')\n",
    "    else: \n",
    "        print(f'{email} is invalid email. Please try again')\n",
    "    return\n",
    "check_email('i@iu@mail.ru')\n"
   ]
  },
  {
   "cell_type": "markdown",
   "metadata": {},
   "source": [
    "**Задание 3. **\n",
    "Напишите функцию, которая будет удалять все последовательные повторы слов из заданной строки при помощи регулярных выражений.\n",
    "\n"
   ]
  },
  {
   "cell_type": "code",
   "execution_count": 38,
   "metadata": {},
   "outputs": [
    {
     "name": "stdout",
     "output_type": "stream",
     "text": [
      "Fish and chips and some empty words here\n"
     ]
    }
   ],
   "source": [
    "import re\n",
    "\n",
    "text = 'Fish Fish and and chips chips and some some empty empty words words here here'\n",
    "\n",
    "def make_unique(string):\n",
    "    regex = '(\\\\w+)(?:\\\\s+\\\\1)+'\n",
    "    result = re.sub(regex, r'\\1', text)\n",
    "    print(result)\n",
    "make_unique(text)"
   ]
  },
  {
   "cell_type": "markdown",
   "metadata": {},
   "source": [
    "re.sub(r'\\W+', ' ', s).strip() - заменяет 1 и более символов, отличных от букв, цифр и знаков подчёркивания, на один пробел, .strip() удалит пробелы в начале и конце строки\n",
    "\n",
    "re.sub(r'\\b([^\\W\\d_]+)(\\s+\\1)+\\b', r'\\1', ..., flags=re.I):\n",
    "\n",
    "\\b([^\\W\\d_]+)(\\s+\\1)+\\b - находит и захватывает в подмаску №1 слово (последовательность 1 и более букв в границах слова), после которого следует 1 и более повторов 1+ пробельных символов и такое же слово (\\1 - обратная ссылка на значение подмаски №1), за которыми следует граница слова\n",
    "r'\\1' - заменяет найденное совпадение единичным экземпляром найденного слова (значение подмаски №1)\n",
    "flags=re.I - включает регистронезависимый поиск текста"
   ]
  },
  {
   "cell_type": "markdown",
   "metadata": {},
   "source": [
    "Задание 4.\n",
    "Напишите функцию, которая будет проверять номер сотового телефона на валидность, если он валиден, то переводить его в формат:\n",
    "+7(xxx)-xxx-xx-xx\n",
    "\n",
    "Постарайтесь предусмотреть как можно больше адекватных форматов изначального ввода номера. Примеры валидных форматов:\n",
    "\n",
    "• +7 955 555-55-55;\n",
    "• 9555555555;\n",
    "• 8(955)555-55-55;\n",
    "• +7 955 555 55 55;\n",
    "• 7(955) 555-55-55;\n",
    "• +7 955+555+55+55."
   ]
  },
  {
   "cell_type": "code",
   "execution_count": 39,
   "metadata": {},
   "outputs": [
    {
     "name": "stdout",
     "output_type": "stream",
     "text": [
      "+7 955 555-55-55  transformed in  +7(955)-555-55-55\n",
      "9555555555  transformed in  +7(955)-555-55-55\n",
      "8(955)555-55-55  transformed in  +7(955)-555-55-55\n",
      "+7 955 555 55 55  transformed in  +7(955)-555-55-55\n",
      "7(955) 555-55-55  transformed in  +7(955)-555-55-55\n",
      "+7 955+555+55+55  transformed in  +7(955)-555-55-55\n",
      "numpy  transformed in  False\n",
      "012345  transformed in  False\n"
     ]
    }
   ],
   "source": [
    "def valid_num(num):\n",
    "    num = re.sub(r'\\D', r'', num) # убрать все не цифры\n",
    "    num = re.findall(r'^([78])?(\\d{3})(\\d{3})(\\d{2})(\\d{2})$', num) # разбить на блоки цифр\n",
    "    if num:                \n",
    "        num = num[0]\n",
    "        num = f'+7({num[1]})-{num[2]}-{num[3]}-{num[4]}'\n",
    "        return num\n",
    "    return False\n",
    "\n",
    "input = ['+7 955 555-55-55', '9555555555', '8(955)555-55-55', '+7 955 555 55 55', '7(955) 555-55-55', '+7 955+555+55+55',\n",
    "      'numpy','012345']\n",
    "for i in input:\n",
    "    print(i, ' transformed in ', valid_num(i))"
   ]
  },
  {
   "cell_type": "code",
   "execution_count": null,
   "metadata": {},
   "outputs": [],
   "source": []
  }
 ],
 "metadata": {
  "kernelspec": {
   "display_name": "Python 3",
   "language": "python",
   "name": "python3"
  },
  "language_info": {
   "codemirror_mode": {
    "name": "ipython",
    "version": 3
   },
   "file_extension": ".py",
   "mimetype": "text/x-python",
   "name": "python",
   "nbconvert_exporter": "python",
   "pygments_lexer": "ipython3",
   "version": "3.7.6"
  }
 },
 "nbformat": 4,
 "nbformat_minor": 2
}
