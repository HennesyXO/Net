{
 "cells": [
  {
   "cell_type": "markdown",
   "metadata": {},
   "source": [
    "Вы работаете секретарем и вам постоянно приходят различные документы. Вы должны быть очень внимательны, чтобы не потерять ни один документ. Каталог документов хранится в следующем виде:"
   ]
  },
  {
   "cell_type": "code",
   "execution_count": 1,
   "metadata": {},
   "outputs": [],
   "source": [
    "documents = [\n",
    "    {'type': 'passport', 'number': '2207 876234', 'name': 'Василий Гупкин'},\n",
    "    {'type': 'invoice', 'number': '11-2', 'name': 'Геннадий Покемонов'},\n",
    "    {'type': 'insurance', 'number': '10006', 'name': 'Аристарх Павлов'}\n",
    "]"
   ]
  },
  {
   "cell_type": "markdown",
   "metadata": {},
   "source": [
    "Перечень полок, на которых находятся документы хранится в следующем виде:"
   ]
  },
  {
   "cell_type": "code",
   "execution_count": 2,
   "metadata": {},
   "outputs": [],
   "source": [
    "directories = {\n",
    "    '1': ['2207 876234', '11-2'],\n",
    "    '2': ['10006'],\n",
    "    '3': []\n",
    "}"
   ]
  },
  {
   "cell_type": "markdown",
   "metadata": {},
   "source": [
    "Необходимо реализовать пользовательские команды (внимание! это не название функций, которые должны быть выразительными, а команды, которые вводит пользователь, чтобы получить необходимый результат):\n",
    "  \n",
    "- p – people – команда, которая спросит номер документа и выведет имя человека, которому он принадлежит;  \n",
    "- s – shelf – команда, которая спросит номер документа и выведет номер полки, на которой он находится  \n",
    "Правильно обработайте ситуацию, когда пользователь будет вводить несуществующий документ.\n",
    "- l – list – команда, которая выведет список всех документов в формате   \n",
    "**passport \"2207 876234\" \"Василий Гупкин\"**  \n",
    "- as – add shelf – команда, которая спросит номер новой полки и добавит ее в перечень\n",
    "- d – delete – команда, которая спросит номер документа и удалит его из каталога и из перечня полок. Предусмотрите сценарий, когда пользователь вводит несуществующий документ;  \n",
    "- m – move – команда, которая спросит номер документа и целевую полку и переместит его с текущей полки на целевую. Корректно обработайте кейсы, когда пользователь пытается переместить несуществующий документ или переместить документ на несуществующую полку;  \n",
    "- a – add – команда, которая добавит новый документ в каталог и в перечень полок, спросив его номер, тип, имя владельца и номер полки, на котором он будет храниться."
   ]
  },
  {
   "cell_type": "code",
   "execution_count": 3,
   "metadata": {},
   "outputs": [],
   "source": [
    "# p – people – команда, которая спросит номер документа и выведет имя человека, которому он принадлежит;\n",
    "\n",
    "def people(doc_num):\n",
    "    found_doc = False\n",
    "    for doc in documents:\n",
    "        if doc['number'] == doc_num:\n",
    "            found_doc = True\n",
    "            print(f\"ФИО: {doc['name']}\")\n",
    "            break\n",
    "    if found_doc == False:\n",
    "        print('Документ не существует')\n"
   ]
  },
  {
   "cell_type": "code",
   "execution_count": 4,
   "metadata": {},
   "outputs": [],
   "source": [
    "# s – shelf – команда, которая спросит номер документа и выведет номер полки, на которой он находится\n",
    "#Правильно обработайте ситуацию, когда пользователь будет вводить несуществующий документ.\n",
    "\n",
    "def shelf(doc_num):\n",
    "    shelf_found = False\n",
    "    for shelf_row in directories.items():\n",
    "        for doc_number in shelf_row[1]:\n",
    "            if doc_number == doc_num:\n",
    "                shelf_found = True\n",
    "                print(f'Документ на полке № {shelf_row[0]}')\n",
    "                break\n",
    "    if shelf_found == False:\n",
    "        print(f'Документ {doc_num} не найден')"
   ]
  },
  {
   "cell_type": "code",
   "execution_count": 5,
   "metadata": {},
   "outputs": [],
   "source": [
    "# l– list – команда, которая выведет список всех документов в формате **passport \"2207 876234\" \"Василий Гупкин\"**;  \n",
    "def doc_list():\n",
    "    for doc in documents:\n",
    "        print (f' {doc[\"type\"]} \"{doc[\"number\"]}\" \"{doc[\"name\"]}\" ')       \n",
    " "
   ]
  },
  {
   "cell_type": "code",
   "execution_count": 6,
   "metadata": {},
   "outputs": [],
   "source": [
    "# as – add shelf – команда, которая спросит номер новой полки и добавит ее в перечень\n",
    "def add_shelf(shelf_num):\n",
    "    if shelf_num in directories.keys():\n",
    "        print(\"Уже есть такая полка\")\n",
    "    else:\n",
    "        directories.update({shelf_num : []})\n",
    "        print(f' Полка № {shelf_num} добавлена')\n"
   ]
  },
  {
   "cell_type": "code",
   "execution_count": 7,
   "metadata": {},
   "outputs": [],
   "source": [
    "#d – delete – команда, которая спросит номер документа и удалит его из каталога и из перечня полок.\n",
    "#Предусмотрите сценарий, когда пользователь вводит несуществующий документ;\n",
    "def doc_del(doc_num):\n",
    "    deleted_doc = False\n",
    "    for doc in documents:\n",
    "        if doc['number'] == doc_num:\n",
    "            documents.remove(doc)\n",
    "            deleted_doc == True\n",
    "            print(f'Документ {doc_num} удален')\n",
    "            break\n",
    "    if deleted_doc == False:\n",
    "        print(f'Документа {doc_num} нет в базе')\n",
    "                  \n",
    "            \n",
    "    for docums in directories.values():\n",
    "        if doc_num in docums:\n",
    "            docums.remove(doc_num)    \n",
    "        "
   ]
  },
  {
   "cell_type": "code",
   "execution_count": 8,
   "metadata": {},
   "outputs": [],
   "source": [
    "#m – move – команда, которая спросит номер документа и целевую полку и переместит его с текущей полки на целевую.\n",
    "#Корректно обработайте кейсы, когда пользователь пытается переместить несуществующий документ или переместить документ\n",
    "#на несуществующую полку;\n",
    "\n",
    "def move(doc_num, target_shelf):\n",
    "    doc_exist = False\n",
    "    for doc in documents:\n",
    "        if doc['number'] ==doc_num:\n",
    "            doc_exist = True\n",
    "            break\n",
    "    if doc_exist == False:\n",
    "        print(f' Нет такого документа {doc_num}')\n",
    "    else:\n",
    "        if target_shelf in directories.keys():\n",
    "            found_doc = False\n",
    "            for docums in directories.values():\n",
    "                if doc_num in docums:\n",
    "                    docums.remove(doc_num)\n",
    "                    found_doc = True\n",
    "            if found_doc == True:\n",
    "                directories[target_shelf].append(doc_num)\n",
    "                print(f' Документ {doc_num} перемещен на полку {target_shelf}')\n",
    "            else:\n",
    "                print(f'Документа {doc_num} нет на полках') \n",
    "        else: \n",
    "            print(f'Полки {target_shelf} не существует') \n",
    "             \n",
    "        "
   ]
  },
  {
   "cell_type": "code",
   "execution_count": 9,
   "metadata": {},
   "outputs": [],
   "source": [
    "#a – add – команда, которая добавит новый документ в каталог и в перечень полок, спросив его номер, \n",
    "#тип, имя владельца и номер полки, на котором он будет храниться.\n",
    "def add(doc_num, doc_type, doc_owner, target_shelf):\n",
    "    doc_exist = False\n",
    "    for doc in documents:\n",
    "        if doc['number'] == doc_num:\n",
    "            doc_exist = True\n",
    "            break\n",
    "    if doc_exist == True:\n",
    "        print(f'Документ {doc_num} уже есть в базе. Проверьте корректность ввода.')\n",
    "        return\n",
    "    if target_shelf not in directories.keys():\n",
    "        print(f'Полки {target_shelf} нет в базе. Проверьте корректность ввода.')\n",
    "        return\n",
    "    new_doc = {'type': doc_type, 'number': doc_num, 'name': doc_owner}\n",
    "    documents.append(new_doc)\n",
    "    directories[target_shelf].append(doc_num)\n",
    "   \n"
   ]
  },
  {
   "cell_type": "code",
   "execution_count": null,
   "metadata": {},
   "outputs": [],
   "source": [
    "def start_program():\n",
    "    while True:\n",
    "        command = input('\\n \\\n",
    "    Выберите одну из команд: p, s, l, as, d, m, a \\n \\\n",
    "    Для выхода введите q \\n \\\n",
    "    Для вызова справки введите h \\n \\\n",
    "    Введите команду: ')\n",
    "        if command == 'p':\n",
    "            people(input('\\nВведите номер документа: '))\n",
    "        elif command == 's':\n",
    "            shelf(input('\\nВведите номер документа: '))\n",
    "        elif command == 'l':\n",
    "            doc_list()\n",
    "        elif command == 'as':\n",
    "            add_shelf(input('\\nДобавить новую полку. Введите номер: '))\n",
    "        elif command == 'd':\n",
    "            doc_del(input('\\nВведите номер документа: '))\n",
    "        elif command == 'm':\n",
    "            move(input('\\nВведите номер документа: '),\n",
    "                          input('Введите номер полки, на которую переносите документ: '))\n",
    "        elif command == 'a':\n",
    "            add(input('\\nВведите тип документа: '),\n",
    "                input('Введите номер документа: '),\n",
    "                input('Введите имя: '),\n",
    "                input('Введите номер полки: '))\n",
    "        elif command == 'q':\n",
    "            break\n",
    "        elif command == 'h':\n",
    "            print('\\n \\\n",
    "            p – people – команда, которая спросит номер документа и выведет имя человека, которому он принадлежит\\n \\\n",
    "            s – shelf – команда, которая спросит номер документа и выведет номер полки, на которой он находится\\n \\\n",
    "            l – list – команда, которая выведет список всех документов\\n \\\n",
    "            as – add shelf – команда, которая спросит номер новой полки и добавит ее в перечень\\n \\\n",
    "            d – delete – команда, которая спросит номер документа и удалит его из каталога и из перечня полок\\n \\\n",
    "            m – move – команда, которая спросит номер документа и целевую полку и переместит его с текущей полки на целевую\\n \\\n",
    "            a – add – команда, которая добавит новый документ в каталог и в перечень полок\\n')\n",
    "        else:\n",
    "            print('Вы ввели неверную команду.')\n",
    "\n",
    "            \n",
    "start_program()"
   ]
  },
  {
   "cell_type": "code",
   "execution_count": null,
   "metadata": {},
   "outputs": [],
   "source": []
  }
 ],
 "metadata": {
  "kernelspec": {
   "display_name": "Python 3",
   "language": "python",
   "name": "python3"
  },
  "language_info": {
   "codemirror_mode": {
    "name": "ipython",
    "version": 3
   },
   "file_extension": ".py",
   "mimetype": "text/x-python",
   "name": "python",
   "nbconvert_exporter": "python",
   "pygments_lexer": "ipython3",
   "version": "3.7.6"
  }
 },
 "nbformat": 4,
 "nbformat_minor": 2
}
