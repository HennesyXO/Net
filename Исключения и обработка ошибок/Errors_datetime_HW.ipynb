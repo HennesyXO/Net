{
 "cells": [
  {
   "cell_type": "markdown",
   "metadata": {},
   "source": [
    "# Домашнее задание"
   ]
  },
  {
   "cell_type": "markdown",
   "metadata": {},
   "source": [
    "Задание 1\n",
    "Напишите функцию date_range, которая возвращает список дней между датами start_date и end_date. \n",
    "Даты должны вводиться в формате YYYY-MM-DD.\n",
    "\n",
    "Задание 2 Дополните функцию из первого задания проверкой на корректность дат. В случае неверного формата или если start_date > end_date должен возвращаться пустой список."
   ]
  },
  {
   "cell_type": "code",
   "execution_count": 2,
   "metadata": {},
   "outputs": [
    {
     "data": {
      "text/plain": [
       "['2020-04-27',\n",
       " '2020-04-28',\n",
       " '2020-04-29',\n",
       " '2020-04-30',\n",
       " '2020-05-01',\n",
       " '2020-05-02',\n",
       " '2020-05-03',\n",
       " '2020-05-04',\n",
       " '2020-05-05',\n",
       " '2020-05-06']"
      ]
     },
     "execution_count": 2,
     "metadata": {},
     "output_type": "execute_result"
    }
   ],
   "source": [
    "from datetime import datetime\n",
    "from datetime import timedelta\n",
    "\n",
    "#переведение дат из строки в дату \n",
    "def data_range(start_date, end_date):\n",
    "    try: \n",
    "        start_date_format = datetime.strptime(start_date, '%Y-%m-%d')\n",
    "        end_date_format = datetime.strptime(end_date, '%Y-%m-%d')\n",
    "    except:\n",
    "        print('Input error: Bad date format')\n",
    "        return []\n",
    "\n",
    "#возвращать пустой список\n",
    "    date_list = []\n",
    "    while start_date_format <= end_date_format:\n",
    "        date_list.append(start_date_format.strftime('%Y-%m-%d'))\n",
    "        start_date_format += timedelta(days=1)\n",
    "    return date_list\n",
    "\n",
    "data_range('2020-04-27', '2020-05-06')\n",
    "    "
   ]
  },
  {
   "cell_type": "markdown",
   "metadata": {},
   "source": [
    "Задание 3\n",
    "Дан поток дат в формате YYYY-MM-DD, в которых встречаются некорректные значения:\n",
    "stream = [‘2018-04-02’, ‘2018-02-29’, ‘2018-19-02’]\n",
    "\n",
    "Напишите функцию, которая проверяет эти даты на корректность. \n",
    "Т. е. для каждой даты возвращает True (дата корректна) или False (некорректная дата).\n"
   ]
  },
  {
   "cell_type": "code",
   "execution_count": 8,
   "metadata": {},
   "outputs": [
    {
     "name": "stdout",
     "output_type": "stream",
     "text": [
      "[('2018-04-02', True), ('2018-02-29', False), ('2018-19-02', False), ('2020-02-29', True)]\n"
     ]
    }
   ],
   "source": [
    "from datetime import datetime\n",
    "\n",
    "def check_date(dates):\n",
    "    dates_list = []\n",
    "    for i in dates:\n",
    "        try:\n",
    "            date = datetime.strptime(i, '%Y-%m-%d')\n",
    "            dates_list.append(True)\n",
    "        except:\n",
    "            dates_list.append(False)\n",
    "            \n",
    "    return dates_list\n",
    "\n",
    "stream = ['2018-04-02', '2018-02-29', '2018-19-02','2020-02-29']\n",
    "\n",
    "print(list(zip(stream, check_date(stream))))\n"
   ]
  },
  {
   "cell_type": "markdown",
   "metadata": {},
   "source": [
    "Задание 4 (бонусное)\n",
    "Ваш коллега прислал код функции:\n",
    "\n",
    "DEFAULT_USER_COUNT = 3\n",
    "\n",
    "def delete_and_return_last_user(region, default_list=[‘A100’, ‘A101’, ‘A102’]):\n",
    "\"\"“\n",
    "Удаляет из списка default_list последнего пользователя\n",
    "и возвращает ID нового последнего пользователя.\n",
    "”\"\"\n",
    "element_to_delete = default_list[-1]\n",
    "default_list.remove(element_to_delete)\n",
    "\n",
    "return default_list[DEFAULT_USER_COUNT-2]\n",
    "При однократном вызове этой функции все работает корректно:\n",
    "delete_and_return_last_user(1)\n",
    "‘A101’\n",
    "\n",
    "Однако, при повторном вызове получается ошибка IndexError: list index out of range.\n",
    "\n",
    "Задание:\n",
    "\n",
    "Что значит ошибка list index out of range?\n",
    "Почему при первом запуске функция работает корректно, а при втором - нет?"
   ]
  },
  {
   "cell_type": "code",
   "execution_count": null,
   "metadata": {},
   "outputs": [],
   "source": [
    "При первом вызове этой функции все работает корректно только в случае, когда элементов в default_list будет три, \n",
    "и после удаления последнего пользователя, новым последним становится элемент с индексом 1. \n",
    "Так как DEFAULT_USER_COUNT = 3 - константа, то default_list[DEFAULT_USER_COUNT - 2] всегда возвращает элемент с индексом 1, \n",
    "а не ID нового последнего пользователя, как говорится в описании. \n",
    "Когда список сократится до одного элемента (с индексом 0), мы получим ошибку \"list index out of range\", \n",
    "потому что элемента с индексом 1 в нашем списке больше нет."
   ]
  }
 ],
 "metadata": {
  "kernelspec": {
   "display_name": "Python 3",
   "language": "python",
   "name": "python3"
  },
  "language_info": {
   "codemirror_mode": {
    "name": "ipython",
    "version": 3
   },
   "file_extension": ".py",
   "mimetype": "text/x-python",
   "name": "python",
   "nbconvert_exporter": "python",
   "pygments_lexer": "ipython3",
   "version": "3.7.6"
  }
 },
 "nbformat": 4,
 "nbformat_minor": 2
}
